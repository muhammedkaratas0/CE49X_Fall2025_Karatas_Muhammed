{
  "cells": [
    {
      "cell_type": "markdown",
      "metadata": {},
      "source": [
        "# CE49X: Introduction to Computational Thinking and Data Science for Civil Engineers\n",
        "## Week 1: Introduction to Python and Programming Fundamentals - Code Examples\n",
        "\n",
        "This notebook contains all the code examples from the Week 1 lecture slides.\n",
        "\n",
        "**Author:** Dr. Eyuphan Koc  \n",
        "**Course:** CE49X - Introduction to Computational Thinking and Data Science for Civil Engineers  \n",
        "**Institution:** Bogazici University  \n",
        "**Semester:** Fall 2025\n"
      ]
    },
    {
      "cell_type": "markdown",
      "metadata": {},
      "source": [
        "## 1. The Zen of Python\n",
        "\n",
        "Let's start with Python's philosophy:\n"
      ]
    },
    {
      "cell_type": "code",
      "execution_count": null,
      "metadata": {},
      "outputs": [],
      "source": [
        "import this\n"
      ]
    },
    {
      "cell_type": "markdown",
      "metadata": {},
      "source": [
        "## 2. Basic Python Examples\n",
        "\n",
        "### 2.1 Simple Calculations\n"
      ]
    },
    {
      "cell_type": "code",
      "execution_count": null,
      "metadata": {},
      "outputs": [],
      "source": [
        "# Basic calculations\n",
        "print(\"1 + 1 =\", 1 + 1)\n",
        "x = 5\n",
        "print(\"x * 3 =\", x * 3)\n"
      ]
    },
    {
      "cell_type": "markdown",
      "metadata": {},
      "source": [
        "### 2.2 Lists and Control Flow Example\n"
      ]
    },
    {
      "cell_type": "code",
      "execution_count": null,
      "metadata": {},
      "outputs": [],
      "source": [
        "# set the midpoint\n",
        "midpoint = 5\n",
        "\n",
        "# make two empty lists\n",
        "lower = []; upper = []\n",
        "\n",
        "# split the numbers into lower and upper\n",
        "for i in range(10):\n",
        "    if (i < midpoint):\n",
        "        lower.append(i)\n",
        "    else:\n",
        "        upper.append(i)\n",
        "        \n",
        "print(\"lower:\", lower)\n",
        "print(\"upper:\", upper)\n"
      ]
    },
    {
      "cell_type": "markdown",
      "metadata": {},
      "source": [
        "## 3. Variables and Objects\n",
        "\n",
        "### 3.1 Dynamic Typing\n"
      ]
    },
    {
      "cell_type": "code",
      "execution_count": null,
      "metadata": {},
      "outputs": [],
      "source": [
        "# Variables can point to objects of any type\n",
        "x = 1         # x is an integer\n",
        "print(f\"x = {x}, type = {type(x)}\")\n",
        "\n",
        "x = 'hello'   # now x is a string\n",
        "print(f\"x = {x}, type = {type(x)}\")\n",
        "\n",
        "x = [1, 2, 3] # now x is a list\n",
        "print(f\"x = {x}, type = {type(x)}\")\n"
      ]
    },
    {
      "cell_type": "markdown",
      "metadata": {},
      "source": [
        "### 3.2 Mutable Objects Behavior\n"
      ]
    },
    {
      "cell_type": "code",
      "execution_count": null,
      "metadata": {},
      "outputs": [],
      "source": [
        "x = [1, 2, 3]\n",
        "y = x          # Both point to same list\n",
        "print(\"Initial y:\", y)       # [1, 2, 3]\n",
        "\n",
        "x.append(4)    # Modify through x\n",
        "print(\"After x.append(4), y:\", y)       # [1, 2, 3, 4] - y changed too!\n"
      ]
    },
    {
      "cell_type": "markdown",
      "metadata": {},
      "source": [
        "## 4. Operators\n",
        "\n",
        "### 4.1 Arithmetic Operators\n"
      ]
    },
    {
      "cell_type": "code",
      "execution_count": null,
      "metadata": {},
      "outputs": [],
      "source": [
        "# Basic arithmetic examples\n",
        "print(\"Addition:\", 10 + 5)   # 15 (addition)\n",
        "print(\"Subtraction:\", 10 - 3)   # 7 (subtraction)\n",
        "print(\"Multiplication:\", 4 * 6)    # 24 (multiplication)\n",
        "print(\"Exponentiation:\", 2 ** 3)   # 8 (exponentiation)\n",
        "\n",
        "# Division examples\n",
        "print(\"True division:\", 25 / 4)   # 6.25 (true division - always float)\n",
        "print(\"Floor division:\", 25 // 4)  # 6 (floor division - integer result)\n",
        "print(\"Modulus:\", 25 % 4)   # 1 (modulus - remainder)\n"
      ]
    },
    {
      "cell_type": "markdown",
      "metadata": {},
      "source": [
        "## 5. Data Types\n",
        "\n",
        "### 5.1 Scalar Types\n"
      ]
    },
    {
      "cell_type": "code",
      "execution_count": null,
      "metadata": {},
      "outputs": [],
      "source": [
        "# Type checking and conversion\n",
        "print(\"Type of 42:\", type(42))      # <class 'int'>\n",
        "print(\"Type of 3.14:\", type(3.14))    # <class 'float'>\n",
        "print(\"Type of True:\", type(True))    # <class 'bool'>\n",
        "print(\"Type of 'hello':\", type(\"hello\")) # <class 'str'>\n",
        "\n",
        "# Integer literals in different bases\n",
        "a = 42          # Decimal\n",
        "b = 0b101010    # Binary (42 in decimal)\n",
        "c = 0o52        # Octal (42 in decimal)  \n",
        "d = 0x2a        # Hexadecimal (42 in decimal)\n",
        "print(\"All represent 42:\", a, b, c, d)\n"
      ]
    },
    {
      "cell_type": "markdown",
      "metadata": {},
      "source": [
        "### 5.2 String Formatting\n"
      ]
    },
    {
      "cell_type": "code",
      "execution_count": null,
      "metadata": {},
      "outputs": [],
      "source": [
        "# Modern string formatting\n",
        "age = 25\n",
        "name = \"Alice\"\n",
        "\n",
        "# f-strings (Python 3.6+) - Recommended\n",
        "print(f\"I am {name}, {age} years old\")\n",
        "\n",
        "# .format() method (older Python versions)\n",
        "print(\"I am {}, {} years old\".format(name, age))\n",
        "\n",
        "# % formatting (legacy)\n",
        "print(\"I am %s, %d years old\" % (name, age))\n"
      ]
    },
    {
      "cell_type": "markdown",
      "metadata": {},
      "source": [
        "## 6. Data Structures\n",
        "\n",
        "### 6.1 Lists\n"
      ]
    },
    {
      "cell_type": "code",
      "execution_count": null,
      "metadata": {},
      "outputs": [],
      "source": [
        "# Creating and manipulating lists\n",
        "primes = [2, 3, 5, 7, 11]\n",
        "print(\"Original primes:\", primes)\n",
        "\n",
        "# List operations\n",
        "print(\"Length:\", len(primes))\n",
        "print(\"First element:\", primes[0])\n",
        "print(\"Last element:\", primes[-1])\n",
        "print(\"Slice [1:3]:\", primes[1:3])\n",
        "\n",
        "# Modifying lists\n",
        "primes.append(13)       # Add to end\n",
        "print(\"After append:\", primes)\n",
        "\n",
        "# List methods\n",
        "numbers = [3, 1, 4, 1, 5, 9, 2, 6]\n",
        "numbers.sort()\n",
        "print(\"Sorted numbers:\", numbers)\n"
      ]
    },
    {
      "cell_type": "markdown",
      "metadata": {},
      "source": [
        "### 6.2 Dictionaries and Sets\n"
      ]
    },
    {
      "cell_type": "code",
      "execution_count": null,
      "metadata": {},
      "outputs": [],
      "source": [
        "# Dictionaries\n",
        "student = {'name': 'Alice', 'age': 20, 'major': 'Civil Engineering'}\n",
        "print(\"Student:\", student)\n",
        "print(\"Student name:\", student['name'])\n",
        "\n",
        "# Sets and set operations\n",
        "set1 = {1, 2, 3, 4}\n",
        "set2 = {3, 4, 5, 6}\n",
        "\n",
        "print(\"Union:\", set1 | set2)          # {1, 2, 3, 4, 5, 6}\n",
        "print(\"Intersection:\", set1 & set2)   # {3, 4}\n",
        "print(\"Difference:\", set1 - set2)     # {1, 2}\n"
      ]
    },
    {
      "cell_type": "markdown",
      "metadata": {},
      "source": [
        "## 7. Civil Engineering Applications\n",
        "\n",
        "Let's apply Python to some civil engineering scenarios:\n"
      ]
    },
    {
      "cell_type": "code",
      "execution_count": null,
      "metadata": {},
      "outputs": [],
      "source": [
        "# Example: Concrete strength analysis\n",
        "concrete_samples = [25.2, 28.1, 26.8, 29.3, 27.5, 24.9, 28.7, 26.3]\n",
        "print(f\"Concrete strength samples: {concrete_samples}\")\n",
        "\n",
        "# Calculate basic statistics\n",
        "average_strength = sum(concrete_samples) / len(concrete_samples)\n",
        "max_strength = max(concrete_samples)\n",
        "min_strength = min(concrete_samples)\n",
        "\n",
        "print(f\"Average strength: {average_strength:.2f} MPa\")\n",
        "print(f\"Maximum strength: {max_strength} MPa\")\n",
        "print(f\"Minimum strength: {min_strength} MPa\")\n",
        "\n",
        "# Check if samples meet minimum requirement (25 MPa)\n",
        "passing_samples = [strength for strength in concrete_samples if strength >= 25.0]\n",
        "print(f\"Samples meeting requirement: {len(passing_samples)}/{len(concrete_samples)}\")\n"
      ]
    },
    {
      "cell_type": "markdown",
      "metadata": {},
      "source": [
        "## Summary\n",
        "\n",
        "This notebook covered the fundamental concepts of Python programming and computational thinking:\n",
        "\n",
        "1. **Python Philosophy**: The Zen of Python and its design principles\n",
        "2. **Python Syntax**: Comments, indentation, whitespace, and basic structure  \n",
        "3. **Variables and Objects**: Dynamic typing, mutability, and the everything-is-object philosophy\n",
        "4. **Operators**: Arithmetic, comparison, boolean, and assignment operators\n",
        "5. **Scalar Types**: int, float, complex, bool, str, and None\n",
        "6. **Data Structures**: Lists, tuples, dictionaries, and sets\n",
        "7. **Civil Engineering Applications**: Real-world examples using computational thinking\n",
        "\n",
        "These fundamentals form the foundation for computational thinking and data science applications in civil engineering. You've learned how to break down problems, represent data, and use Python as a tool for engineering analysis.\n",
        "\n",
        "**Next Week**: We'll cover control flow (if/else, loops), functions, error handling, and list comprehensions - the building blocks of computational problem-solving.\n"
      ]
    }
  ],
  "metadata": {
    "language_info": {
      "name": "python"
    }
  },
  "nbformat": 4,
  "nbformat_minor": 2
}
