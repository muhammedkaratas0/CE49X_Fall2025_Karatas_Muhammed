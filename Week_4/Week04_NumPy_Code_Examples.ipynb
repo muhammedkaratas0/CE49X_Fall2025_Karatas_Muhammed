{
 "cells": [
  {
   "cell_type": "markdown",
   "metadata": {},
   "source": [
    "# CE49X: Introduction to Computational Thinking and Data Science for Civil Engineers\n",
    "\n",
    "## Week 4: NumPy for Numerical Computing\n",
    "\n",
    "**Based on \"Python Data Science Handbook\" by Jake VanderPlas - Chapter 2: Introduction to NumPy**\n",
    "\n",
    "**Author:** Dr. Eyuphan Koc  \n",
    "**Institution:** Bogazici University - Department of Civil Engineering  \n",
    "**Semester:** Fall 2025\n",
    "\n",
    "---\n",
    "\n",
    "### Topics Covered:\n",
    "1. **Introduction to NumPy** - Arrays and basic operations\n",
    "2. **Array Fundamentals** - Creating, indexing, and reshaping\n",
    "3. **Array Operations** - Vectorization and universal functions\n",
    "4. **Aggregations** - Statistical operations\n",
    "5. **Broadcasting** - Operations on different shapes\n",
    "6. **Boolean Operations** - Masking and filtering\n",
    "7. **Advanced Indexing** - Fancy indexing\n",
    "8. **Sorting** - Organizing data\n",
    "9. **Structured Arrays** - Mixed data types\n",
    "\n",
    "### Learning Objectives:\n",
    "- Understand why NumPy is essential for scientific computing\n",
    "- Create and manipulate multi-dimensional arrays efficiently\n",
    "- Perform vectorized operations without loops\n",
    "- Apply statistical and aggregation functions\n",
    "- Use broadcasting for operations on different array shapes\n",
    "- Filter and sort data using boolean operations\n",
    "\n",
    "---\n",
    "\n",
    "*This notebook contains practical examples demonstrating NumPy's capabilities for numerical computing in civil engineering applications.*"
   ]
  },
  {
   "cell_type": "markdown",
   "metadata": {},
   "source": [
    "## 1. Introduction to NumPy\n",
    "\n",
    "NumPy (Numerical Python) is the fundamental package for scientific computing in Python. It provides:\n",
    "- Fast, efficient multi-dimensional arrays\n",
    "- Vectorized computations (no loops needed!)\n",
    "- Broadcasting for operations on different shapes\n",
    "- Foundation for Pandas, SciPy, Matplotlib, and more"
   ]
  },
  {
   "cell_type": "markdown",
   "metadata": {},
   "source": [
    "### 1.1 Speed Comparison: Lists vs NumPy"
   ]
  },
  {
   "cell_type": "code",
   "execution_count": null,
   "metadata": {},
   "outputs": [],
   "source": [
    "# Python list: slow\n",
    "import time\n",
    "L = list(range(1000000))\n",
    "start = time.time()\n",
    "result = [x**2 for x in L]\n",
    "print(f\"Time: {time.time()-start:.4f}s\")\n",
    "# Time: ~0.15s"
   ]
  },
  {
   "cell_type": "code",
   "execution_count": null,
   "metadata": {},
   "outputs": [],
   "source": [
    "# NumPy array: fast!\n",
    "import numpy as np\n",
    "A = np.arange(1000000)\n",
    "start = time.time()\n",
    "result = A**2\n",
    "print(f\"Time: {time.time()-start:.4f}s\")\n",
    "# Time: ~0.002s  (75x faster!)"
   ]
  },
  {
   "cell_type": "markdown",
   "metadata": {},
   "source": [
    "### 1.2 Installing and Importing NumPy"
   ]
  },
  {
   "cell_type": "code",
   "execution_count": null,
   "metadata": {},
   "outputs": [],
   "source": [
    "import numpy as np  # ALWAYS use this convention!\n",
    "\n",
    "# Check version\n",
    "print(np.__version__)  # e.g., '1.24.3'"
   ]
  },
  {
   "cell_type": "markdown",
   "metadata": {},
   "source": [
    "### 1.3 Creating Your First NumPy Arrays"
   ]
  },
  {
   "cell_type": "code",
   "execution_count": null,
   "metadata": {},
   "outputs": [],
   "source": [
    "import numpy as np\n",
    "\n",
    "# From Python list - 1D array\n",
    "my_list = [1, 2, 3, 4, 5]\n",
    "arr = np.array(my_list)\n",
    "print(arr)  # [1 2 3 4 5]\n",
    "\n",
    "# 2D array (matrix)\n",
    "matrix = np.array([[1, 2, 3],\n",
    "                   [4, 5, 6],\n",
    "                   [7, 8, 9]])\n",
    "print(matrix)\n",
    "# [[1 2 3]\n",
    "#  [4 5 6]\n",
    "#  [7 8 9]]\n",
    "\n",
    "# Unlike lists, all elements must be same type!\n",
    "mixed = np.array([1, 2.5, 3])  # Will convert to float\n",
    "print(mixed.dtype)  # dtype('float64')"
   ]
  },
  {
   "cell_type": "markdown",
   "metadata": {},
   "source": [
    "## 2. Array Fundamentals\n",
    "\n",
    "### 2.1 Creating Arrays: Common Methods"
   ]
  },
  {
   "cell_type": "code",
   "execution_count": null,
   "metadata": {},
   "outputs": [],
   "source": [
    "import numpy as np\n",
    "\n",
    "# Zeros - initialize array\n",
    "zeros = np.zeros(10)  # [0. 0. 0. 0. 0. 0. 0. 0. 0. 0.]\n",
    "zeros_matrix = np.zeros((3, 3))  # 3x3 matrix of zeros\n",
    "\n",
    "# Ones\n",
    "ones = np.ones(5)  # [1. 1. 1. 1. 1.]\n",
    "fives = np.ones(5) * 5  # [5. 5. 5. 5. 5.]\n",
    "\n",
    "# Sequential values\n",
    "seq = np.arange(0, 11, 2)  # [0 2 4 6 8 10]  (start, stop, step)\n",
    "\n",
    "# Evenly spaced values\n",
    "linear = np.linspace(0, 1, 5)  # [0.  0.25  0.5  0.75  1.] (start, stop, count)\n",
    "\n",
    "# Random values\n",
    "random_vals = np.random.random(5)  # 5 random values between 0 and 1\n",
    "random_ints = np.random.randint(0, 10, size=5)  # 5 random integers 0-9\n",
    "\n",
    "# Identity matrix\n",
    "I = np.eye(3)  # [[1. 0. 0.], [0. 1. 0.], [0. 0. 1.]]\n",
    "\n",
    "print(\"Zeros:\", zeros)\n",
    "print(\"Sequential:\", seq)\n",
    "print(\"Linear:\", linear)\n",
    "print(\"Identity:\")\n",
    "print(I)"
   ]
  },
  {
   "cell_type": "markdown",
   "metadata": {},
   "source": [
    "### 2.2 Array Attributes: Understanding Your Data"
   ]
  },
  {
   "cell_type": "code",
   "execution_count": null,
   "metadata": {},
   "outputs": [],
   "source": [
    "import numpy as np\n",
    "np.random.seed(0)  # for reproducibility\n",
    "\n",
    "# Create arrays of different dimensions\n",
    "x1 = np.random.randint(10, size=6)  # 1D array\n",
    "x2 = np.random.randint(10, size=(3, 4))  # 2D array\n",
    "x3 = np.random.randint(10, size=(3, 4, 5))  # 3D array\n",
    "\n",
    "print(\"x3 ndim: \", x3.ndim)  # 3\n",
    "print(\"x3 shape:\", x3.shape)  # (3, 4, 5)\n",
    "print(\"x3 size: \", x3.size)  # 60\n",
    "\n",
    "print(\"dtype:\", x3.dtype)  # int64\n",
    "print(\"itemsize:\", x3.itemsize, \"bytes\")  # 8 bytes\n",
    "print(\"nbytes:\", x3.nbytes, \"bytes\")  # 480 bytes"
   ]
  },
  {
   "cell_type": "markdown",
   "metadata": {},
   "source": [
    "### 2.3 Data Types in NumPy"
   ]
  },
  {
   "cell_type": "code",
   "execution_count": null,
   "metadata": {},
   "outputs": [],
   "source": [
    "# Specify dtype at creation\n",
    "arr = np.array([1, 2, 3], dtype=np.float32)\n",
    "\n",
    "# Convert dtype\n",
    "arr_float64 = arr.astype(np.float64)\n",
    "\n",
    "print(arr.dtype)        # float32\n",
    "print(arr_float64.dtype)  # float64"
   ]
  },
  {
   "cell_type": "code",
   "execution_count": null,
   "metadata": {},
   "outputs": [],
   "source": [
    "# Memory comparison\n",
    "a32 = np.ones(1000000, dtype=np.float32)\n",
    "a64 = np.ones(1000000, dtype=np.float64)\n",
    "\n",
    "print(f\"32-bit: {a32.nbytes/1e6} MB\")\n",
    "# 4.0 MB\n",
    "print(f\"64-bit: {a64.nbytes/1e6} MB\")\n",
    "# 8.0 MB"
   ]
  },
  {
   "cell_type": "markdown",
   "metadata": {},
   "source": [
    "### 2.4 Indexing and Slicing: Accessing Array Elements"
   ]
  },
  {
   "cell_type": "code",
   "execution_count": null,
   "metadata": {},
   "outputs": [],
   "source": [
    "import numpy as np\n",
    "\n",
    "# 1D array - similar to Python lists\n",
    "x = np.arange(10)  # [0 1 2 3 4 5 6 7 8 9]\n",
    "print(x[0])      # 0 (first element)\n",
    "print(x[-1])     # 9 (last element)\n",
    "print(x[4:7])    # [4 5 6] (slice from index 4 to 6)\n",
    "print(x[::2])    # [0 2 4 6 8] (every 2nd element)\n",
    "print(x[::-1])   # [9 8 7 6 5 4 3 2 1 0] (reverse)\n",
    "\n",
    "# 2D array - row, column indexing\n",
    "x2 = np.array([[12, 5, 2, 4],\n",
    "               [7, 6, 8, 8],\n",
    "               [1, 6, 7, 7]])\n",
    "\n",
    "print(x2[0, 0])    # 12 (element at row 0, col 0)\n",
    "print(x2[2, -1])   # 7 (element at row 2, last column)\n",
    "print(x2[0, :])    # [12  5  2  4] (first row)\n",
    "print(x2[:, 1])    # [5 6 6] (second column)\n",
    "print(x2[:2, :2])  # [[12  5], [ 7  6]] (2x2 subarray)"
   ]
  },
  {
   "cell_type": "markdown",
   "metadata": {},
   "source": [
    "### 2.5 Array Views vs Copies"
   ]
  },
  {
   "cell_type": "code",
   "execution_count": null,
   "metadata": {},
   "outputs": [],
   "source": [
    "import numpy as np\n",
    "\n",
    "# Original array\n",
    "original = np.array([1, 2, 3, 4, 5])\n",
    "\n",
    "# SLICING creates a VIEW (not a copy!)\n",
    "view = original[1:4]\n",
    "view[0] = 999\n",
    "print(original)  # [1 999 3 4 5]  <-- Original changed!\n",
    "\n",
    "# To create independent copy, use .copy()\n",
    "original = np.array([1, 2, 3, 4, 5])\n",
    "independent = original[1:4].copy()\n",
    "independent[0] = 999\n",
    "print(original)  # [1 2 3 4 5]  <-- Original unchanged\n",
    "print(independent)  # [999 3 4]"
   ]
  },
  {
   "cell_type": "markdown",
   "metadata": {},
   "source": [
    "### 2.6 Reshaping Arrays"
   ]
  },
  {
   "cell_type": "code",
   "execution_count": null,
   "metadata": {},
   "outputs": [],
   "source": [
    "import numpy as np\n",
    "\n",
    "# 1D to 2D\n",
    "loads = np.arange(12)\n",
    "print(loads)  # [ 0  1  2  3  4  5  6  7  8  9 10 11]\n",
    "\n",
    "# Reshape to 3x4 matrix\n",
    "matrix = loads.reshape(3, 4)\n",
    "print(matrix)\n",
    "# [[ 0  1  2  3]\n",
    "#  [ 4  5  6  7]\n",
    "#  [ 8  9 10 11]]\n",
    "\n",
    "# Reshape to 4x3 matrix\n",
    "matrix2 = loads.reshape(4, 3)\n",
    "print(matrix2)\n",
    "# [[ 0  1  2]\n",
    "#  [ 3  4  5]\n",
    "#  [ 6  7  8]\n",
    "#  [ 9 10 11]]\n",
    "\n",
    "# Use -1 to auto-calculate one dimension\n",
    "matrix3 = loads.reshape(2, -1)  # 2 rows, auto-calculate columns\n",
    "print(matrix3.shape)  # (2, 6)\n",
    "\n",
    "# Flatten back to 1D\n",
    "flat = matrix.flatten()  # or .ravel() for view\n",
    "print(flat)  # [ 0  1  2  3  4  5  6  7  8  9 10 11]"
   ]
  },
  {
   "cell_type": "markdown",
   "metadata": {},
   "source": [
    "### 2.7 Concatenating and Splitting Arrays"
   ]
  },
  {
   "cell_type": "code",
   "execution_count": null,
   "metadata": {},
   "outputs": [],
   "source": [
    "import numpy as np\n",
    "\n",
    "# Concatenate 1D arrays\n",
    "dead_load = np.array([10, 15, 20])\n",
    "live_load = np.array([5, 8, 10])\n",
    "total_load = np.concatenate([dead_load, live_load])\n",
    "print(total_load)  # [10 15 20  5  8 10]\n",
    "\n",
    "# Stack vertically (vstack)\n",
    "loads = np.vstack([dead_load, live_load])\n",
    "print(loads)\n",
    "# [[10 15 20]\n",
    "#  [ 5  8 10]]\n",
    "\n",
    "# Stack horizontally (hstack)\n",
    "loads = np.hstack([dead_load, live_load])\n",
    "print(loads)  # [10 15 20  5  8 10]\n",
    "\n",
    "# Split array\n",
    "split_loads = np.split(total_load, [3])  # Split at index 3\n",
    "print(split_loads[0])  # [10 15 20]\n",
    "print(split_loads[1])  # [ 5  8 10]"
   ]
  },
  {
   "cell_type": "markdown",
   "metadata": {},
   "source": [
    "## 3. Array Operations and Universal Functions\n",
    "\n",
    "### 3.1 Vectorized Arithmetic: No Loops Needed!"
   ]
  },
  {
   "cell_type": "code",
   "execution_count": null,
   "metadata": {},
   "outputs": [],
   "source": [
    "import numpy as np\n",
    "\n",
    "# Create arrays\n",
    "x = np.arange(4)\n",
    "print(\"x =\", x)  # [0 1 2 3]\n",
    "\n",
    "# Element-wise operations (vectorized - FAST!)\n",
    "print(\"x + 5 =\", x + 5)    # [5 6 7 8]\n",
    "print(\"x - 5 =\", x - 5)    # [-5 -4 -3 -2]\n",
    "print(\"x * 2 =\", x * 2)    # [0 2 4 6]\n",
    "print(\"x / 2 =\", x / 2)    # [0.  0.5 1.  1.5]\n",
    "print(\"x ** 2 =\", x ** 2)  # [0 1 4 9]\n",
    "\n",
    "# Multiple arrays\n",
    "a = np.array([1, 2, 3, 4])\n",
    "b = np.array([4, 3, 2, 1])\n",
    "print(\"a + b =\", a + b)    # [5 5 5 5]\n",
    "print(\"a * b =\", a * b)    # [4 6 6 4]\n",
    "\n",
    "# Compare to Python list (requires loop!)\n",
    "# result = [x**2 for x in my_list]  # Slow!"
   ]
  },
  {
   "cell_type": "markdown",
   "metadata": {},
   "source": [
    "### 3.2 Universal Functions (ufuncs): Fast Operations"
   ]
  },
  {
   "cell_type": "code",
   "execution_count": null,
   "metadata": {},
   "outputs": [],
   "source": [
    "import numpy as np\n",
    "\n",
    "# Trigonometric functions\n",
    "theta = np.linspace(0, np.pi, 3)\n",
    "print(\"sin(theta) =\", np.sin(theta))\n",
    "print(\"cos(theta) =\", np.cos(theta))\n",
    "print(\"tan(theta) =\", np.tan(theta))\n",
    "\n",
    "# Exponential and logarithmic\n",
    "x = [1, 2, 3]\n",
    "print(\"e^x =\", np.exp(x))       # [2.718  7.389  20.086]\n",
    "print(\"2^x =\", np.exp2(x))      # [2.  4.  8.]\n",
    "print(\"log(x) =\", np.log(x))    # [0.  0.693  1.099]\n",
    "\n",
    "# Absolute value\n",
    "x = np.array([-2, -1, 0, 1, 2])\n",
    "print(\"abs(x) =\", np.abs(x))    # [2 1 0 1 2]\n",
    "\n",
    "# All much faster than Python loops!"
   ]
  },
  {
   "cell_type": "markdown",
   "metadata": {},
   "source": [
    "### 3.3 Example: Computation on Arrays"
   ]
  },
  {
   "cell_type": "code",
   "execution_count": null,
   "metadata": {},
   "outputs": [],
   "source": [
    "import numpy as np\n",
    "\n",
    "# Compute values of sin(x) for many values\n",
    "x = np.linspace(0, np.pi, 3)\n",
    "print(\"x      =\", x)\n",
    "# [0.         1.57079633 3.14159265]\n",
    "\n",
    "print(\"sin(x) =\", np.sin(x))\n",
    "# [0.0000000e+00 1.0000000e+00 1.2246468e-16]\n",
    "\n",
    "# Compute a more complex operation\n",
    "x = np.arange(5)\n",
    "y = np.empty(5)\n",
    "for i in range(5):\n",
    "    y[i] = x[i] ** 2\n",
    "print(y)  # [ 0.  1.  4.  9. 16.]\n",
    "\n",
    "# Much better with vectorization:\n",
    "x = np.arange(5)\n",
    "y = x ** 2\n",
    "print(y)  # [ 0  1  4  9 16]"
   ]
  },
  {
   "cell_type": "markdown",
   "metadata": {},
   "source": [
    "## 4. Aggregations and Statistics\n",
    "\n",
    "### 4.1 Basic Aggregations: Summarizing Data"
   ]
  },
  {
   "cell_type": "code",
   "execution_count": 1,
   "metadata": {},
   "outputs": [
    {
     "name": "stdout",
     "output_type": "stream",
     "text": [
      "44.43824594370413\n",
      "0.012322493893601072\n",
      "0.9926501587236769\n",
      "0.4443824594370413\n",
      "0.29960432514503993\n",
      "0.08976275164561481\n",
      "44.43824594370413\n",
      "0.012322493893601072\n",
      "0.9926501587236769\n",
      "0.4443824594370413\n",
      "0.29960432514503993\n",
      "0.18458440630304515\n",
      "0.35076369744593494\n",
      "0.7129816790623866\n"
     ]
    }
   ],
   "source": [
    "import numpy as np\n",
    "\n",
    "# Random data\n",
    "L = np.random.random(100)\n",
    "\n",
    "# Summary statistics\n",
    "print(np.sum(L))      # Sum of all values\n",
    "print(np.min(L))      # Minimum value\n",
    "print(np.max(L))      # Maximum value\n",
    "print(np.mean(L))     # Mean\n",
    "print(np.std(L))      # Standard deviation\n",
    "print(np.var(L))      # Variance\n",
    "\n",
    "# These also work as array methods:\n",
    "print(L.sum())\n",
    "print(L.min())\n",
    "print(L.max())\n",
    "print(L.mean())\n",
    "print(L.std())\n",
    "\n",
    "# Percentiles\n",
    "print(np.percentile(L, 25))  # 1st quartile\n",
    "print(np.median(L))          # 50th percentile\n",
    "print(np.percentile(L, 75))  # 3rd quartile"
   ]
  },
  {
   "cell_type": "markdown",
   "metadata": {},
   "source": [
    "### 4.2 Multi-Dimensional Aggregations: The axis Parameter"
   ]
  },
  {
   "cell_type": "code",
   "execution_count": 2,
   "metadata": {},
   "outputs": [
    {
     "name": "stdout",
     "output_type": "stream",
     "text": [
      "[[0.48564277 0.37698495 0.48830923 0.30464232]\n",
      " [0.08189593 0.61631359 0.46428554 0.76876726]\n",
      " [0.88253258 0.50069607 0.46427552 0.60262979]]\n",
      "Shape: (3, 4)\n",
      "6.036975542799025\n",
      "[1.45007128 1.4939946  1.41687029 1.67603937]\n",
      "[1.65557927 1.93126232 2.45013395]\n",
      "[0.08189593 0.37698495 0.46427552 0.30464232]\n",
      "[0.48830923 0.76876726 0.88253258]\n"
     ]
    }
   ],
   "source": [
    "import numpy as np\n",
    "\n",
    "# 2D array example\n",
    "M = np.random.random((3, 4))\n",
    "print(M)\n",
    "\n",
    "# Aggregate along different axes\n",
    "print(\"Shape:\", M.shape)  # (3, 4)\n",
    "\n",
    "# Sum all values\n",
    "print(M.sum())\n",
    "\n",
    "# Sum along axis 0 (collapse rows -> result has shape (4,))\n",
    "print(M.sum(axis=0))\n",
    "\n",
    "# Sum along axis 1 (collapse columns -> result has shape (3,))\n",
    "print(M.sum(axis=1))\n",
    "\n",
    "# Works with other functions too:\n",
    "print(M.min(axis=0))  # Min of each column\n",
    "print(M.max(axis=1))  # Max of each row"
   ]
  },
  {
   "cell_type": "markdown",
   "metadata": {},
   "source": [
    "### 4.3 More Aggregation Functions"
   ]
  },
  {
   "cell_type": "code",
   "execution_count": 3,
   "metadata": {},
   "outputs": [
    {
     "name": "stdout",
     "output_type": "stream",
     "text": [
      "Sum: 175\n",
      "Product: 3150000000\n",
      "Mean: 25.0\n",
      "Std: 10.0\n",
      "Variance: 100.0\n",
      "Min: 10\n",
      "Max: 40\n",
      "Argmin: 0\n",
      "Argmax: 6\n",
      "Any > 50: False\n",
      "All > 5: True\n"
     ]
    }
   ],
   "source": [
    "import numpy as np\n",
    "\n",
    "data = np.array([10, 15, 20, 25, 30, 35, 40])\n",
    "\n",
    "# Basic stats\n",
    "print(f\"Sum: {np.sum(data)}\")         # 175\n",
    "print(f\"Product: {np.prod(data)}\")    # 3.15e9\n",
    "print(f\"Mean: {np.mean(data)}\")       # 25.0\n",
    "print(f\"Std: {np.std(data)}\")         # 10.0\n",
    "print(f\"Variance: {np.var(data)}\")    # 100.0\n",
    "\n",
    "# Min/Max\n",
    "print(f\"Min: {np.min(data)}\")         # 10\n",
    "print(f\"Max: {np.max(data)}\")         # 40\n",
    "print(f\"Argmin: {np.argmin(data)}\")   # 0 (index of min)\n",
    "print(f\"Argmax: {np.argmax(data)}\")   # 6 (index of max)\n",
    "\n",
    "# Cumulative operations\n",
    "cumsum = np.cumsum(data)  # [10 25 45 70 100 135 175]\n",
    "cumprod = np.cumprod(data[:4])  # [10 150 3000 75000]\n",
    "\n",
    "# Boolean operations\n",
    "print(f\"Any > 50: {np.any(data > 50)}\")    # False\n",
    "print(f\"All > 5: {np.all(data > 5)}\")      # True"
   ]
  },
  {
   "cell_type": "code",
   "execution_count": 15,
   "metadata": {},
   "outputs": [
    {
     "ename": "IndentationError",
     "evalue": "unexpected indent (3560620510.py, line 13)",
     "output_type": "error",
     "traceback": [
      "  \u001b[36mCell\u001b[39m\u001b[36m \u001b[39m\u001b[32mIn[15]\u001b[39m\u001b[32m, line 13\u001b[39m\n\u001b[31m    \u001b[39m\u001b[31mmean_per_year = np.mean(precip_data , axis =0)\u001b[39m\n    ^\n\u001b[31mIndentationError\u001b[39m\u001b[31m:\u001b[39m unexpected indent\n"
     ]
    }
   ],
   "source": [
    "import numpy as np\n",
    "\n",
    " # Precipitation data : 12 months x 5 years\n",
    "precip_data = np.array([\n",
    " [3.2 , 2.8 , 3.5 , 2.9 , 3.1] , # January\n",
    " [2.5 , 2.9 , 2.3 , 2.7 , 2.6] , # February\n",
    " [3.8 , 4.1 , 3.6 , 4.0 , 3.9] , # March\n",
    "# ... ( more months )\n",
    " ])\n",
    "\n",
    " # Analysis\n",
    "mean_per_month = np.mean(precip_data , axis =1)\n",
    " mean_per_year = np.mean(precip_data , axis =0)\n",
    " overall_mean = np.mean(precip_data )\n",
    " overall_std = np.std(precip_data )\n",
    "\n",
    " # Find extremes\n",
    " max_precip = np.max(precip_data)\n",
    " min_precip = np.min(precip_data)\n",
    "\n",
    " print (f\" Overall mean : {overall_mean:.2 f}\")\n",
    " print (f\" Std deviation : {overall_std:.2 f}\")\n",
    " print (f\" Range : {min_precip :.2 f} - {max_precip :.2 f}\")"
   ]
  },
  {
   "cell_type": "markdown",
   "metadata": {},
   "source": [
    "### 4.4 Example: Analyzing Multi-Dimensional Data"
   ]
  },
  {
   "cell_type": "code",
   "execution_count": null,
   "metadata": {},
   "outputs": [],
   "source": [
    "import numpy as np\n",
    "\n",
    "# Precipitation data: 12 months x 5 years\n",
    "precip_data = np.array([\n",
    "    [3.2, 2.8, 3.5, 2.9, 3.1],  # January\n",
    "    [2.5, 2.9, 2.3, 2.7, 2.6],  # February\n",
    "    [3.8, 4.1, 3.6, 4.0, 3.9],  # March\n",
    "    # ... (more months)\n",
    "])\n",
    "\n",
    "# Analysis\n",
    "mean_per_month = np.mean(precip_data, axis=1)\n",
    "mean_per_year = np.mean(precip_data, axis=0)\n",
    "overall_mean = np.mean(precip_data)\n",
    "overall_std = np.std(precip_data)\n",
    "\n",
    "# Find extremes\n",
    "max_precip = np.max(precip_data)\n",
    "min_precip = np.min(precip_data)\n",
    "\n",
    "print(f\"Overall mean: {overall_mean:.2f}\")\n",
    "print(f\"Std deviation: {overall_std:.2f}\")\n",
    "print(f\"Range: {min_precip:.2f} - {max_precip:.2f}\")"
   ]
  },
  {
   "cell_type": "markdown",
   "metadata": {},
   "source": [
    "## 5. Broadcasting\n",
    "\n",
    "Broadcasting allows NumPy to perform operations on arrays of different shapes without explicitly replicating data.\n",
    "\n",
    "### 5.1 Broadcasting Examples"
   ]
  },
  {
   "cell_type": "code",
   "execution_count": null,
   "metadata": {},
   "outputs": [],
   "source": [
    "import numpy as np\n",
    "\n",
    "# Scalar + Array (broadcasts scalar to all elements)\n",
    "a = np.array([0, 1, 2])\n",
    "a + 5  # array([5, 6, 7])\n",
    "\n",
    "# 1D + 1D\n",
    "a = np.ones((3, 3))\n",
    "b = np.arange(3)\n",
    "print(a + b)\n",
    "# array([[1., 2., 3.],\n",
    "#        [1., 2., 3.],\n",
    "#        [1., 2., 3.]])\n",
    "\n",
    "# Broadcasting with higher dimensions\n",
    "a = np.arange(3).reshape((3, 1))\n",
    "b = np.arange(3)\n",
    "print(a + b)\n",
    "# [[0 1 2]\n",
    "#  [1 2 3]\n",
    "#  [2 3 4]]"
   ]
  },
  {
   "cell_type": "markdown",
   "metadata": {},
   "source": [
    "### 5.2 Broadcasting in 2D: Centering Data"
   ]
  },
  {
   "cell_type": "code",
   "execution_count": null,
   "metadata": {},
   "outputs": [],
   "source": [
    "import numpy as np\n",
    "\n",
    "# Data matrix (10 observations x 3 features)\n",
    "X = np.random.random((10, 3))\n",
    "\n",
    "# Compute mean of each column (feature)\n",
    "Xmean = X.mean(axis=0)\n",
    "\n",
    "# Center the data (subtract mean from each column)\n",
    "X_centered = X - Xmean\n",
    "\n",
    "# Verify mean is now ~0 for each feature\n",
    "print(X_centered.mean(axis=0))\n",
    "# [~0. ~0. ~0.]\n",
    "\n",
    "# This works because Xmean has shape (3,) which broadcasts\n",
    "# to match X's shape (10, 3) by replicating across rows"
   ]
  },
  {
   "cell_type": "markdown",
   "metadata": {},
   "source": [
    "### 5.3 Broadcasting: Plotting Functions"
   ]
  },
  {
   "cell_type": "code",
   "execution_count": null,
   "metadata": {},
   "outputs": [],
   "source": [
    "import numpy as np\n",
    "import matplotlib.pyplot as plt\n",
    "\n",
    "# Create a 2D grid using broadcasting\n",
    "x = np.linspace(0, 5, 50)\n",
    "y = np.linspace(0, 5, 50)[:, np.newaxis]\n",
    "\n",
    "# Broadcasting: x is (50,), y is (50,1)\n",
    "# Result z is (50, 50)\n",
    "z = np.sin(x) ** 10 + np.cos(10 + y * x) * np.cos(x)\n",
    "\n",
    "plt.imshow(z, origin='lower', extent=[0, 5, 0, 5],\n",
    "           cmap='viridis')\n",
    "plt.colorbar()\n",
    "plt.title('Broadcasting Example')\n",
    "plt.show()\n",
    "\n",
    "# This creates a 2D function from 1D arrays!"
   ]
  },
  {
   "cell_type": "markdown",
   "metadata": {},
   "source": [
    "## 6. Boolean Operations and Masking\n",
    "\n",
    "### 6.1 Comparison Operators: Element-wise Comparisons"
   ]
  },
  {
   "cell_type": "code",
   "execution_count": null,
   "metadata": {},
   "outputs": [],
   "source": [
    "import numpy as np\n",
    "\n",
    "# Data array\n",
    "x = np.array([1, 2, 3, 4, 5])\n",
    "\n",
    "# Comparison operators return boolean arrays\n",
    "print(x < 3)\n",
    "# [ True  True False False False]\n",
    "\n",
    "print(x > 3)\n",
    "# [False False False  True  True]\n",
    "\n",
    "print(x == 3)\n",
    "# [False False  True False False]\n",
    "\n",
    "# Multiple comparisons (use & and |, not 'and' and 'or')\n",
    "print((x > 1) & (x < 5))\n",
    "# [False  True  True  True False]\n",
    "\n",
    "# Count how many satisfy condition\n",
    "print(np.sum(x > 2))  # 3 (True=1, False=0)\n",
    "\n",
    "# Percentage\n",
    "print(np.mean(x > 2))  # 0.6 (60%)"
   ]
  },
  {
   "cell_type": "markdown",
   "metadata": {},
   "source": [
    "### 6.2 Boolean Indexing: Filtering Data"
   ]
  },
  {
   "cell_type": "code",
   "execution_count": null,
   "metadata": {},
   "outputs": [],
   "source": [
    "import numpy as np\n",
    "\n",
    "# Data array\n",
    "x = np.array([1, 2, 3, 4, 5])\n",
    "\n",
    "# Create boolean mask\n",
    "mask = x < 3\n",
    "print(mask)\n",
    "# [ True  True False False False]\n",
    "\n",
    "# Use mask to filter data\n",
    "print(x[mask])  # [1 2]\n",
    "\n",
    "# Can use directly without creating variable\n",
    "print(x[x < 3])  # [1 2]\n",
    "\n",
    "# More complex example with 2D\n",
    "np.random.seed(0)\n",
    "X = np.random.randint(10, size=(3, 4))\n",
    "print(X)\n",
    "# [[5 0 3 3]\n",
    "#  [7 9 3 5]\n",
    "#  [2 4 7 6]]\n",
    "\n",
    "print(X[X < 5])  # [0 3 3 3 2 4] (flattened)"
   ]
  },
  {
   "cell_type": "markdown",
   "metadata": {},
   "source": [
    "### 6.3 Boolean Operators: Combining Conditions"
   ]
  },
  {
   "cell_type": "code",
   "execution_count": null,
   "metadata": {},
   "outputs": [],
   "source": [
    "import numpy as np\n",
    "\n",
    "# Example: Rainy days analysis\n",
    "rainfall_inches = np.array([0.2, 0.5, 0.0, 1.2, 0.8, 0.0, 0.3])\n",
    "\n",
    "# Multiple criteria with & (AND) and | (OR)\n",
    "print((rainfall_inches > 0) & (rainfall_inches < 1))\n",
    "# [ True  True False False  True False  True]\n",
    "\n",
    "print((rainfall_inches <= 0) | (rainfall_inches >= 1))\n",
    "# [False False  True  True False  True False]\n",
    "\n",
    "# Use np.sum() to count matches\n",
    "print(np.sum((rainfall_inches > 0) & (rainfall_inches < 1)))  # 4\n",
    "\n",
    "# IMPORTANT: Use & and | for arrays, not 'and' and 'or'!\n",
    "# Also: always use parentheses around conditions\n",
    "\n",
    "# Boolean operators\n",
    "print(~(rainfall_inches > 0.5))  # NOT\n",
    "# [ True False  True False False  True  True]"
   ]
  },
  {
   "cell_type": "markdown",
   "metadata": {},
   "source": [
    "### 6.4 Example: Analyzing Weather Data"
   ]
  },
  {
   "cell_type": "code",
   "execution_count": null,
   "metadata": {},
   "outputs": [],
   "source": [
    "import numpy as np\n",
    "\n",
    "# Weather data\n",
    "np.random.seed(1)\n",
    "rainfall = np.random.random(365) * 2  # inches per day\n",
    "\n",
    "# Analysis\n",
    "rainy_days = np.sum(rainfall > 0.5)\n",
    "dry_days = np.sum(rainfall < 0.1)\n",
    "median_precip = np.median(rainfall)\n",
    "mean_precip = np.mean(rainfall)\n",
    "\n",
    "print(f\"Rainy days (>0.5 in): {rainy_days}\")\n",
    "print(f\"Dry days (<0.1 in): {dry_days}\")\n",
    "print(f\"Median: {median_precip:.2f} in\")\n",
    "print(f\"Mean: {mean_precip:.2f} in\")\n",
    "\n",
    "# Get all rainy day amounts\n",
    "rainy = rainfall[rainfall > 0.5]\n",
    "print(f\"Average rainfall on rainy days: {rainy.mean():.2f} in\")"
   ]
  },
  {
   "cell_type": "markdown",
   "metadata": {},
   "source": [
    "## 7. Advanced Indexing\n",
    "\n",
    "### 7.1 Fancy Indexing: Using Arrays as Indices"
   ]
  },
  {
   "cell_type": "code",
   "execution_count": null,
   "metadata": {},
   "outputs": [],
   "source": [
    "import numpy as np\n",
    "\n",
    "# Simple array\n",
    "x = np.array([51, 92, 14, 71, 60, 20, 82, 86, 74, 74])\n",
    "\n",
    "# Select specific elements by index\n",
    "ind = [3, 7, 4]\n",
    "print(x[ind])  # [71 86 60]\n",
    "\n",
    "# 2D indexing\n",
    "X = np.arange(12).reshape((3, 4))\n",
    "print(X)\n",
    "# [[ 0  1  2  3]\n",
    "#  [ 4  5  6  7]\n",
    "#  [ 8  9 10 11]]\n",
    "\n",
    "# Select specific rows and columns\n",
    "row = np.array([0, 1, 2])\n",
    "col = np.array([2, 1, 3])\n",
    "print(X[row, col])  # [ 2  5 11]\n",
    "\n",
    "# Select a subset of rows\n",
    "print(X[[0, 2]])\n",
    "# [[ 0  1  2  3]\n",
    "#  [ 8  9 10 11]]"
   ]
  },
  {
   "cell_type": "markdown",
   "metadata": {},
   "source": [
    "### 7.2 Modifying Values with Fancy Indexing"
   ]
  },
  {
   "cell_type": "code",
   "execution_count": null,
   "metadata": {},
   "outputs": [],
   "source": [
    "import numpy as np\n",
    "\n",
    "# Start with array of zeros\n",
    "x = np.zeros(10)\n",
    "print(x)  # [0. 0. 0. 0. 0. 0. 0. 0. 0. 0.]\n",
    "\n",
    "# Set specific indices\n",
    "ind = [0, 3, 5]\n",
    "x[ind] = 99\n",
    "print(x)  # [99.  0.  0. 99.  0. 99.  0.  0.  0.  0.]\n",
    "\n",
    "# Increment specific values\n",
    "x[ind] += 1\n",
    "print(x)  # [100.   0.   0. 100.   0. 100.   0.   0.   0.   0.]\n",
    "\n",
    "# Repeated indices - behavior is subtle!\n",
    "x = np.zeros(5)\n",
    "i = [0, 0, 0]\n",
    "x[i] += 1\n",
    "print(x)  # [1. 0. 0. 0. 0.] - only incremented once!"
   ]
  },
  {
   "cell_type": "markdown",
   "metadata": {},
   "source": [
    "### 7.3 Combined Indexing: Mix and Match"
   ]
  },
  {
   "cell_type": "code",
   "execution_count": null,
   "metadata": {},
   "outputs": [],
   "source": [
    "import numpy as np\n",
    "\n",
    "# 2D array\n",
    "X = np.arange(12).reshape((3, 4))\n",
    "print(X)\n",
    "# [[ 0  1  2  3]\n",
    "#  [ 4  5  6  7]\n",
    "#  [ 8  9 10 11]]\n",
    "\n",
    "# Fancy indexing + slicing\n",
    "# Select rows 0 and 2, columns 1 and 3\n",
    "result = X[[0, 2]][:, [1, 3]]\n",
    "print(result)\n",
    "# [[ 1  3]\n",
    "#  [ 9 11]]\n",
    "\n",
    "# Boolean mask + fancy indexing\n",
    "mask = X[:, 1] > 5\n",
    "print(mask)  # [False False  True]\n",
    "print(X[mask])\n",
    "# [[ 8  9 10 11]]"
   ]
  },
  {
   "cell_type": "markdown",
   "metadata": {},
   "source": [
    "## 8. Sorting\n",
    "\n",
    "### 8.1 Sorting Arrays"
   ]
  },
  {
   "cell_type": "code",
   "execution_count": null,
   "metadata": {},
   "outputs": [],
   "source": [
    "import numpy as np\n",
    "\n",
    "# Unsorted array\n",
    "x = np.array([2, 1, 4, 3, 5])\n",
    "\n",
    "# Sort (returns new sorted array)\n",
    "print(np.sort(x))  # [1 2 3 4 5]\n",
    "\n",
    "# argsort: returns indices that would sort the array\n",
    "i = np.argsort(x)\n",
    "print(i)  # [1 0 3 2 4]\n",
    "print(x[i])  # [1 2 3 4 5]\n",
    "\n",
    "# Sort in descending order\n",
    "print(x[np.argsort(x)[::-1]])  # [5 4 3 2 1]\n",
    "\n",
    "# Sort 2D array along axis\n",
    "np.random.seed(42)\n",
    "X = np.random.randint(0, 10, (4, 6))\n",
    "print(X)\n",
    "\n",
    "# Sort each column\n",
    "print(np.sort(X, axis=0))\n",
    "\n",
    "# Sort each row\n",
    "print(np.sort(X, axis=1))"
   ]
  },
  {
   "cell_type": "markdown",
   "metadata": {},
   "source": [
    "### 8.2 Practical Sorting: Finding Top N Elements"
   ]
  },
  {
   "cell_type": "code",
   "execution_count": null,
   "metadata": {},
   "outputs": [],
   "source": [
    "import numpy as np\n",
    "\n",
    "# Array of values\n",
    "x = np.array([7, 2, 3, 1, 6, 5, 4])\n",
    "\n",
    "# Partition: smallest 3 on left, rest on right\n",
    "print(np.partition(x, 3))\n",
    "# [2 1 3 4 6 5 7] (3 smallest values on left, not sorted)\n",
    "\n",
    "# Get indices for partition\n",
    "i = np.argpartition(x, 3)\n",
    "print(x[i])\n",
    "# [2 1 3 4 6 5 7]\n",
    "\n",
    "# Find top K values efficiently\n",
    "# Partition so K largest are on the right\n",
    "K = 3\n",
    "partitioned = np.partition(x, -K)\n",
    "print(partitioned[-K:])  # [5 6 7] (not necessarily sorted)\n",
    "\n",
    "# For sorted top K, use argsort\n",
    "top_k_sorted = x[np.argsort(x)[-K:]]\n",
    "print(top_k_sorted)  # [5 6 7]"
   ]
  },
  {
   "cell_type": "markdown",
   "metadata": {},
   "source": [
    "## 9. Structured Data in NumPy\n",
    "\n",
    "### 9.1 Structured Arrays: Mixing Data Types"
   ]
  },
  {
   "cell_type": "code",
   "execution_count": null,
   "metadata": {},
   "outputs": [],
   "source": [
    "import numpy as np\n",
    "\n",
    "# Create structured array for person data\n",
    "data = np.zeros(4, dtype={\n",
    "    'names': ('name', 'age', 'weight'),\n",
    "    'formats': ('U10', 'i4', 'f8')\n",
    "})\n",
    "\n",
    "# Fill data\n",
    "data['name'] = ['Alice', 'Bob', 'Cathy', 'Doug']\n",
    "data['age'] = [25, 45, 37, 19]\n",
    "data['weight'] = [55.0, 85.5, 68.0, 61.5]\n",
    "\n",
    "print(data)\n",
    "# [('Alice', 25, 55. ) ('Bob', 45, 85.5)\n",
    "#  ('Cathy', 37, 68. ) ('Doug', 19, 61.5)]\n",
    "\n",
    "# Access by field name\n",
    "print(data['name'])  # ['Alice' 'Bob' 'Cathy' 'Doug']\n",
    "print(data['age'])   # [25 45 37 19]\n",
    "\n",
    "# Filter\n",
    "print(data[data['age'] < 30]['name'])  # ['Alice' 'Doug']"
   ]
  },
  {
   "cell_type": "markdown",
   "metadata": {},
   "source": [
    "## Summary\n",
    "\n",
    "This notebook covered the fundamental concepts of NumPy for numerical computing:\n",
    "\n",
    "1. **Introduction to NumPy** - Understanding speed advantages and basic arrays\n",
    "2. **Array Fundamentals** - Creating, indexing, reshaping, and combining arrays\n",
    "3. **Array Operations** - Vectorized arithmetic and universal functions\n",
    "4. **Aggregations** - Statistical operations and the axis parameter\n",
    "5. **Broadcasting** - Operations on different array shapes\n",
    "6. **Boolean Operations** - Masking and filtering data\n",
    "7. **Advanced Indexing** - Fancy indexing for complex selections\n",
    "8. **Sorting** - Organizing and finding top elements\n",
    "9. **Structured Arrays** - Mixing data types (though Pandas is usually better)\n",
    "\n",
    "### Key Takeaways:\n",
    "- NumPy is 10-100x faster than Python lists for numerical operations\n",
    "- Use vectorized operations instead of loops\n",
    "- Broadcasting enables operations on different shapes without copying data\n",
    "- Boolean masking is powerful for filtering data\n",
    "- NumPy is the foundation for the entire PyData ecosystem\n",
    "\n",
    "**Next Week**: We'll explore Pandas, which builds on NumPy to provide DataFrames for structured data analysis with labeled columns and rows!"
   ]
  }
 ],
 "metadata": {
  "kernelspec": {
   "display_name": "base",
   "language": "python",
   "name": "python3"
  },
  "language_info": {
   "codemirror_mode": {
    "name": "ipython",
    "version": 3
   },
   "file_extension": ".py",
   "mimetype": "text/x-python",
   "name": "python",
   "nbconvert_exporter": "python",
   "pygments_lexer": "ipython3",
   "version": "3.13.2"
  }
 },
 "nbformat": 4,
 "nbformat_minor": 4
}
