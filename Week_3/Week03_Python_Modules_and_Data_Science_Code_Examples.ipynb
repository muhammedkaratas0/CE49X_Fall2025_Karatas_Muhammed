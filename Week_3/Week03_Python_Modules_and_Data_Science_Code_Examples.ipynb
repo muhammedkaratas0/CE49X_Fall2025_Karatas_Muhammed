{
  "cells": [
    {
      "cell_type": "markdown",
      "metadata": {},
      "source": [
        "# CE49X: Introduction to Computational Thinking and Data Science for Civil Engineers\n",
        "\n",
        "## Week 3: Python Modules, Strings, and Data Science Tools\n",
        "\n",
        "**Based on \"A Whirlwind Tour of Python\" by Jake VanderPlas - Chapters 13-17**\n",
        "\n",
        "**Author:** Dr. Eyuphan Koc  \n",
        "**Institution:** Bogazici University - Department of Civil Engineering  \n",
        "**Semester:** Fall 2025\n",
        "\n",
        "---\n",
        "\n",
        "### Topics Covered:\n",
        "1. **Modules and Packages** - Code organization and imports\n",
        "2. **String Manipulation** - Text processing and regular expressions\n",
        "3. **Data Science Tools Preview** - NumPy, Pandas, Matplotlib, SciPy\n",
        "\n",
        "### Learning Objectives:\n",
        "- Master module imports and package management\n",
        "- Process and manipulate text data effectively\n",
        "- Understand the scientific Python ecosystem\n",
        "- Create professional data visualizations\n",
        "- Build reusable engineering tools\n",
        "\n",
        "---\n",
        "\n",
        "*This notebook contains practical examples with civil engineering applications to demonstrate Python modules, string processing, and data science tools.*\n"
      ]
    },
    {
      "cell_type": "markdown",
      "metadata": {},
      "source": [
        "## 1. Modules and Packages\n",
        "\n",
        "Modules and packages allow us to organize code and reuse existing functionality. This is crucial for building maintainable engineering applications.\n",
        "\n",
        "### 1.1 Import Methods\n"
      ]
    },
    {
      "cell_type": "code",
      "execution_count": null,
      "metadata": {},
      "outputs": [],
      "source": [
        "import math\n",
        "import numpy\n",
        "\n",
        "# Clear where functions come from\n",
        "result = math.cos(math.pi)\n",
        "array = numpy.array([1, 2, 3])\n",
        "\n",
        "print(f\"cos(π) = {result}\")\n",
        "print(f\"Array: {array}\")\n"
      ]
    },
    {
      "cell_type": "code",
      "execution_count": null,
      "metadata": {},
      "outputs": [],
      "source": [
        "import numpy as np\n",
        "import matplotlib.pyplot as plt\n",
        "import pandas as pd\n",
        "\n",
        "# Standard scientific Python conventions\n",
        "data = np.array([1, 2, 3, 4, 5])\n",
        "plt.plot(data)\n",
        "df = pd.DataFrame({'loads': data})\n",
        "\n",
        "print(\"Data:\", data)\n",
        "print(\"DataFrame:\")\n",
        "print(df)\n"
      ]
    },
    {
      "cell_type": "code",
      "execution_count": null,
      "metadata": {},
      "outputs": [],
      "source": [
        "# Standardizing material names from different sources\n",
        "material = \"REINFORCED CONCRETE\" \n",
        "standard_name = material.title()  # \"Reinforced Concrete\"\n",
        "\n",
        "# Consistent database lookups\n",
        "user_input = \"  Steel Grade 250  \"\n",
        "search_term = user_input.lower().strip()\n",
        "\n",
        "print(f\"Original: '{material}'\")\n",
        "print(f\"Standardized: '{standard_name}'\")\n",
        "print(f\"User input: '{user_input}'\")\n",
        "print(f\"Search term: '{search_term}'\")\n"
      ]
    },
    {
      "cell_type": "code",
      "execution_count": null,
      "metadata": {},
      "outputs": [],
      "source": [
        "import re\n",
        "\n",
        "# Find all numbers in a string\n",
        "text = \"Beam B-001 has length 6000mm and load 25.5 kN\"\n",
        "numbers = re.findall(r'\\d+\\.?\\d*', text)\n",
        "# Result: ['001', '6000', '25.5']\n",
        "\n",
        "# Find member IDs (letter followed by dash and digits)\n",
        "member_pattern = r'[A-Z]-\\d+'\n",
        "members = re.findall(member_pattern, text)\n",
        "# Result: ['B-001']\n",
        "\n",
        "print(f\"Text: {text}\")\n",
        "print(f\"Numbers found: {numbers}\")\n",
        "print(f\"Members found: {members}\")\n"
      ]
    },
    {
      "cell_type": "code",
      "execution_count": null,
      "metadata": {},
      "outputs": [],
      "source": [
        "import numpy as np\n",
        "\n",
        "# Create arrays for structural analysis\n",
        "loads = np.array([10, 15, 20, 25, 30])  # kN\n",
        "factors = np.array([1.2, 1.4, 1.6])     # Safety factors\n",
        "\n",
        "# Vectorized operations (much faster than loops)\n",
        "design_loads = loads * 1.5  # Apply factor to all loads\n",
        "max_load = np.max(loads)     # Find maximum\n",
        "\n",
        "# Matrix operations for structural analysis\n",
        "stiffness = np.array([[100, -50], [-50, 100]])  # kN/mm\n",
        "forces = np.array([10, 5])  # kN\n",
        "displacement = np.linalg.solve(stiffness, forces)\n",
        "\n",
        "print(\"Original loads:\", loads)\n",
        "print(\"Design loads (1.5x):\", design_loads)\n",
        "print(\"Displacements:\", displacement)\n"
      ]
    },
    {
      "cell_type": "code",
      "execution_count": null,
      "metadata": {},
      "outputs": [],
      "source": [
        "import pandas as pd\n",
        "\n",
        "# Load structural test data\n",
        "df = pd.read_csv('concrete_tests.csv')\n",
        "\n",
        "# Basic data exploration\n",
        "print(f\"Dataset shape: {df.shape}\")\n",
        "print(f\"Columns: {df.columns.tolist()}\")\n",
        "\n",
        "# Statistical summary\n",
        "summary = df.describe()\n",
        "\n",
        "# Filter data (e.g., tests above 25 MPa)\n",
        "high_strength = df[df['strength'] > 25]\n",
        "\n",
        "# Group by material type and calculate averages\n",
        "material_stats = df.groupby('material_type')['strength'].agg([\n",
        "    'mean', 'std', 'count'\n",
        "])\n",
        "\n",
        "# Create new calculated columns\n",
        "df['strength_ratio'] = df['strength'] / df['target_strength']\n"
      ]
    },
    {
      "cell_type": "code",
      "execution_count": null,
      "metadata": {},
      "outputs": [],
      "source": [
        "import matplotlib.pyplot as plt\n",
        "import numpy as np\n",
        "\n",
        "# Create sample load-displacement data\n",
        "displacement = np.linspace(0, 10, 50)  # mm\n",
        "load = 100 * displacement - 5 * displacement**2  # kN (nonlinear)\n",
        "\n",
        "# Create professional plot\n",
        "fig, ax = plt.subplots(figsize=(10, 6))\n",
        "ax.plot(displacement, load, 'b-', linewidth=2, label='Test Data')\n",
        "ax.set_xlabel('Displacement (mm)')\n",
        "ax.set_ylabel('Load (kN)')\n",
        "ax.set_title('Load-Displacement Curve - Beam Test')\n",
        "ax.grid(True, alpha=0.3)\n",
        "ax.legend()\n",
        "\n",
        "# Save for report\n",
        "plt.savefig('load_displacement_curve.png', dpi=300, bbox_inches='tight')\n"
      ]
    }
  ],
  "metadata": {
    "language_info": {
      "name": "python"
    }
  },
  "nbformat": 4,
  "nbformat_minor": 2
}
